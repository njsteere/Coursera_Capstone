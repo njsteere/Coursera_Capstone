{
  "nbformat": 4,
  "nbformat_minor": 0,
  "metadata": {
    "colab": {
      "name": "Capstone Project.ipynb",
      "provenance": [],
      "authorship_tag": "ABX9TyP6+XLPG73OU9L2/OQxKjbE",
      "include_colab_link": true
    },
    "kernelspec": {
      "name": "python3",
      "display_name": "Python 3"
    },
    "language_info": {
      "name": "python"
    }
  },
  "cells": [
    {
      "cell_type": "markdown",
      "metadata": {
        "id": "view-in-github",
        "colab_type": "text"
      },
      "source": [
        "<a href=\"https://colab.research.google.com/github/njsteere/Coursera_Capstone/blob/main/Capstone_Project.ipynb\" target=\"_parent\"><img src=\"https://colab.research.google.com/assets/colab-badge.svg\" alt=\"Open In Colab\"/></a>"
      ]
    },
    {
      "cell_type": "markdown",
      "metadata": {
        "id": "T2gxdjzF-qek"
      },
      "source": [
        "#Comparing Chicago Neighborhoods to New York City and Toronto\n",
        "\n",
        "##Welcome to the Notebook!\n",
        "\n",
        "This is the capstone project of IBM's Data Science & Machine Learning certification course.\n",
        "\n",
        "The object of this week's exercise is to define a problem or idea that will leverage Foursquare location data to solve or execute.\n",
        "\n",
        "We have already prepared neighborhood analysis of New York City and Toronto.  I have decided to compare the same data in the American City of Chicago - New York City and Toronto are consistently one of (if not the) most expensive places to live in their countries.  I lived in Chicago my whole childhood so I may be biased (the data will show us!) but I believe Chicago neighborhoods will have close to the same density of amenities.\n",
        "\n",
        "The purpose of the project is to solve a **business** problem, so we will frame this data exploration as a real estate agency in Chicago looking to see how the neighborhoods they sell in compare to those other cities.  What parts of Chicago will appeal to someone from Manhattan, etc.\n",
        "\n",
        "Our dataset will be the existing New York and Toronto neighborhood data sets, with a third dataset of Chicago.  We will again rely on Foursquare data for Chicago neighborhoods to see what sort of elements are most common in each.  Lastly, we will incorporate a comparison of rent/home prices in each of the three cities to see the value for money proposition of moving to Chicago."
      ]
    },
    {
      "cell_type": "code",
      "metadata": {
        "colab": {
          "base_uri": "https://localhost:8080/"
        },
        "id": "O3Lm10jC-2-O",
        "outputId": "f69bf2ed-23fc-4c8e-9360-ee2d66662b93"
      },
      "source": [
        "import pandas as pd\n",
        "import numpy as np\n",
        "print (\"Hello Capstone Project Course!\")"
      ],
      "execution_count": null,
      "outputs": [
        {
          "output_type": "stream",
          "text": [
            "Hello Capstone Project Course!\n"
          ],
          "name": "stdout"
        }
      ]
    },
    {
      "cell_type": "code",
      "metadata": {
        "id": "xBOPsdcM--Ai"
      },
      "source": [
        ""
      ],
      "execution_count": null,
      "outputs": []
    }
  ]
}