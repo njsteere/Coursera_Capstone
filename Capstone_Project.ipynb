{
  "nbformat": 4,
  "nbformat_minor": 0,
  "metadata": {
    "colab": {
      "name": "Capstone Project.ipynb",
      "provenance": [],
      "authorship_tag": "ABX9TyPud9zA2IH9wKs0xmocJlb8",
      "include_colab_link": true
    },
    "kernelspec": {
      "name": "python3",
      "display_name": "Python 3"
    },
    "language_info": {
      "name": "python"
    }
  },
  "cells": [
    {
      "cell_type": "markdown",
      "metadata": {
        "id": "view-in-github",
        "colab_type": "text"
      },
      "source": [
        "<a href=\"https://colab.research.google.com/github/njsteere/Coursera_Capstone/blob/main/Capstone_Project.ipynb\" target=\"_parent\"><img src=\"https://colab.research.google.com/assets/colab-badge.svg\" alt=\"Open In Colab\"/></a>"
      ]
    },
    {
      "cell_type": "markdown",
      "metadata": {
        "id": "T2gxdjzF-qek"
      },
      "source": [
        "#Comparing Chicago Neighborhoods to New York City and Toronto\n",
        "\n",
        "##Welcome to the Notebook!\n",
        "\n",
        "This is the capstone project of IBM's Data Science & Machine Learning certification course.\n",
        "\n",
        "The object of this week's exercise is to define a problem or idea that will leverage Foursquare location data to solve or execute.\n",
        "\n",
        "\n",
        "###1) Defining the Problem\n",
        "We have already prepared neighborhood analysis of New York City and Toronto.  I have decided to compare the same data in the American City of Chicago - New York City and Toronto are consistently one of (if not the) most expensive places to live in their countries.  In comparison, the cost of living in the Midwest is relatively low while still offering many of the same amenities.\n",
        "\n",
        "I lived in Chicago my whole childhood so I may be biased (the data will show us!) but I believe Chicago neighborhoods will have close to the same density of amenities.\n",
        "\n",
        "The purpose of the project is to solve a **business** problem, so we will frame this data exploration as we are data scientists hired by a real estate agency in Chicago.  The goal is to present a list of Chicago neighborhoods that are comparable to those in the two other cities.  What parts of Chicago will appeal to someone from Manhattan, etc?  We will want our sales team of realtors to know the best neighborhoods that would persuade someone considering a move to Chicago from one of the other cities.\n",
        "\n",
        "The deliverable will be a list of Chicago neighborhoods that will most appeal to transplants from Toronto and New York.  Our client will use these comparisions as a selling tool to help them guide potential homebuyers/renters to the neighborhoods most likely to \"feel like home\".\n",
        "\n",
        "\n",
        "###\n",
        "Our dataset will be the existing New York and Toronto neighborhood data sets, with a third dataset of Chicago.  The first two datasets are in the parent Github folder of this notebook, while the third does not yet exist. We will again rely on Foursquare data for Chicago neighborhoods to see what sort of elements are most common in each.\n",
        "\n",
        "By pairing neighborhood data with the Foursquare information, we can see what types of venues are in each neighborhood of Chicago.  By using Folium, we can graphically present maps of the city to show where each neighborhood is located.  Finally, by using KMeans comparison, we can group the neighborhoods that are most similar.  These can be compared against the same results in Toronto and New York, allowing us to find neighborhoods across the three cities with common elements.\n",
        "\n",
        "Lastly, we will incorporate a comparison of rent/home prices in each of the three cities to see the value for money proposition of moving to Chicago.\n",
        "\n"
      ]
    },
    {
      "cell_type": "code",
      "metadata": {
        "colab": {
          "base_uri": "https://localhost:8080/"
        },
        "id": "O3Lm10jC-2-O",
        "outputId": "f69bf2ed-23fc-4c8e-9360-ee2d66662b93"
      },
      "source": [
        "import pandas as pd\n",
        "import numpy as np\n",
        "print (\"Hello Capstone Project Course!\")"
      ],
      "execution_count": null,
      "outputs": [
        {
          "output_type": "stream",
          "text": [
            "Hello Capstone Project Course!\n"
          ],
          "name": "stdout"
        }
      ]
    },
    {
      "cell_type": "code",
      "metadata": {
        "id": "xBOPsdcM--Ai"
      },
      "source": [
        ""
      ],
      "execution_count": null,
      "outputs": []
    }
  ]
}